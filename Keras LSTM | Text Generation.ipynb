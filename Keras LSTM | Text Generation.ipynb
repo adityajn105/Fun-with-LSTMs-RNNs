{
 "cells": [
  {
   "cell_type": "markdown",
   "metadata": {
    "collapsed": true
   },
   "source": [
    "#### I have a GOT dataset for season 1 and 2\n",
    "Firstly lets preprocess it, before feeding to our Keras Model"
   ]
  },
  {
   "cell_type": "code",
   "execution_count": 4,
   "metadata": {},
   "outputs": [
    {
     "data": {
      "text/plain": [
       "55"
      ]
     },
     "execution_count": 4,
     "metadata": {},
     "output_type": "execute_result"
    }
   ],
   "source": [
    "data = open(\"datasets/got.txt\",\"r\",encoding=\"utf-8\").read().lower()\n",
    "chars = list(set(data)) #total unique characters\n",
    "VOCAB_SIZE = len(chars)\n",
    "VOCAB_SIZE"
   ]
  },
  {
   "cell_type": "code",
   "execution_count": 6,
   "metadata": {},
   "outputs": [],
   "source": [
    "#initialize Mapping\n",
    "char_to_ix = { ch:ix for ix,ch in enumerate(chars) }\n",
    "ix_to_char = { ix:ch for ix,ch in enumerate(chars) }"
   ]
  },
  {
   "cell_type": "code",
   "execution_count": 11,
   "metadata": {},
   "outputs": [],
   "source": [
    "\"\"\"\n",
    "number_of_features = VOCAL_SIZE\n",
    "length_of_sequence = how many chars, model will look at a time\n",
    "number_of_sequence = len(data)/length_of_sequence\n",
    "\"\"\"\n",
    "SEQ_LENGTH = 30\n",
    "import numpy as np\n",
    "X = np.zeros((int(len(data)/SEQ_LENGTH),SEQ_LENGTH,VOCAB_SIZE))\n",
    "Y = np.zeros((int(len(data)/SEQ_LENGTH),SEQ_LENGTH,VOCAB_SIZE))"
   ]
  },
  {
   "cell_type": "code",
   "execution_count": 13,
   "metadata": {},
   "outputs": [],
   "source": [
    "for i in range(0,int(len(data)/SEQ_LENGTH)):\n",
    "    X_Sequence = data[ i*SEQ_LENGTH : (i+1)*SEQ_LENGTH ]\n",
    "    X_Sequence_ix = [ char_to_ix[ch] for ch in X_Sequence ]\n",
    "    input_sequence = np.zeros((SEQ_LENGTH,VOCAB_SIZE))\n",
    "    for j in range(SEQ_LENGTH):\n",
    "        input_sequence[j][X_Sequence_ix[j]] == 1\n",
    "    X[i] = input_sequence\n",
    "    \n",
    "    Y_Sequence = data[ (i*SEQ_LENGTH)+1 : ((i+1)*SEQ_LENGTH)+1 ]\n",
    "    Y_Sequence_ix = [ char_to_ix[ch] for ch in Y_Sequence ]\n",
    "    target_sequence = np.zeros((SEQ_LENGTH,VOCAB_SIZE))\n",
    "    for j in range(SEQ_LENGTH):\n",
    "        target_sequence[j][Y_Sequence_ix[j]] == 1\n",
    "    Y[i] = target_sequence"
   ]
  },
  {
   "cell_type": "code",
   "execution_count": 14,
   "metadata": {},
   "outputs": [
    {
     "ename": "MemoryError",
     "evalue": "",
     "output_type": "error",
     "traceback": [
      "\u001b[0;31m---------------------------------------------------------------------------\u001b[0m",
      "\u001b[0;31mMemoryError\u001b[0m                               Traceback (most recent call last)",
      "\u001b[0;32m<ipython-input-14-59ec9baa2ec2>\u001b[0m in \u001b[0;36m<module>\u001b[0;34m()\u001b[0m\n\u001b[1;32m      1\u001b[0m \u001b[0;32mimport\u001b[0m \u001b[0mpickle\u001b[0m\u001b[0;34m\u001b[0m\u001b[0m\n\u001b[0;32m----> 2\u001b[0;31m \u001b[0mpickle\u001b[0m\u001b[0;34m.\u001b[0m\u001b[0mdump\u001b[0m\u001b[0;34m(\u001b[0m\u001b[0;34m(\u001b[0m\u001b[0mX\u001b[0m\u001b[0;34m,\u001b[0m\u001b[0mY\u001b[0m\u001b[0;34m)\u001b[0m\u001b[0;34m,\u001b[0m\u001b[0mopen\u001b[0m\u001b[0;34m(\u001b[0m\u001b[0;34m\"input_ouput.pickle\"\u001b[0m\u001b[0;34m,\u001b[0m\u001b[0;34m\"wb\"\u001b[0m\u001b[0;34m)\u001b[0m\u001b[0;34m)\u001b[0m\u001b[0;34m\u001b[0m\u001b[0m\n\u001b[0m",
      "\u001b[0;31mMemoryError\u001b[0m: "
     ]
    }
   ],
   "source": [
    "import pickle\n",
    "pickle.dump((X,Y),open(\"input_ouput.pickle\",\"wb\"))\n"
   ]
  },
  {
   "cell_type": "code",
   "execution_count": null,
   "metadata": {
    "collapsed": true
   },
   "outputs": [],
   "source": [
    "(X,Y)="
   ]
  }
 ],
 "metadata": {
  "kernelspec": {
   "display_name": "Python 3",
   "language": "python",
   "name": "python3"
  },
  "language_info": {
   "codemirror_mode": {
    "name": "ipython",
    "version": 3
   },
   "file_extension": ".py",
   "mimetype": "text/x-python",
   "name": "python",
   "nbconvert_exporter": "python",
   "pygments_lexer": "ipython3",
   "version": "3.6.3"
  }
 },
 "nbformat": 4,
 "nbformat_minor": 2
}
